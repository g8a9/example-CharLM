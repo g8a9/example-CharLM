{
 "cells": [
  {
   "cell_type": "code",
   "execution_count": 4,
   "metadata": {},
   "outputs": [],
   "source": [
    "from pathlib import Path\n",
    "import numpy as np"
   ]
  },
  {
   "cell_type": "markdown",
   "metadata": {},
   "source": [
    "## Defining dataset"
   ]
  },
  {
   "cell_type": "code",
   "execution_count": 39,
   "metadata": {},
   "outputs": [],
   "source": [
    "import torch\n",
    "from torch.utils.data import DataLoader, Dataset, RandomSampler\n",
    "import math\n",
    "\n",
    "\n",
    "class PySourceDataset(Dataset):\n",
    "    \n",
    "    def __init__(self, main_folder, seq_len=80):\n",
    "        self.main_folder = main_folder\n",
    "        self.seq_len = seq_len\n",
    "        \n",
    "        # Read all python source files\n",
    "        files = list()\n",
    "        for path in Path(main_folder).rglob('*.py'):\n",
    "            with open(path, encoding=\"utf8\") as fp:\n",
    "                files.append(fp.read())       \n",
    "        print(\"Number of .py files:\", len(files))\n",
    "\n",
    "        # Concatenate them with a page separator\n",
    "        # corpus = \"\\n\\nNEW FILE\\n\\n\".join(files)\n",
    "        self.corpus = \"\\n\".join(files)\n",
    "        self.corpus_len = len(self.corpus)\n",
    "        print(\"Chars in corpus:\", self.corpus_len)\n",
    "        \n",
    "        # Define useful mappings\n",
    "        idx = 0\n",
    "        self.c2i = dict()\n",
    "        for c in corpus:\n",
    "            if c not in self.c2i:\n",
    "                self.c2i[c] = idx\n",
    "                idx += 1\n",
    "        self.i2c = {v: k for k, v in self.c2i.items()}\n",
    "        self.n_chars = len(self.c2i)\n",
    "        print(\"Number of distinct chars:\", self.n_chars)\n",
    "    \n",
    "    def _get_onehot(self, c):\n",
    "        t = torch.zeros(1, self.n_chars)\n",
    "        t[0][self.c2i[c]] = 1\n",
    "        return t\n",
    "    \n",
    "    def __len__(self):\n",
    "        return self.corpus_len - self.seq_len\n",
    "    \n",
    "    def __getitem__(self, idx):\n",
    "        assert idx < len(self)\n",
    "        \n",
    "        # raw text sequences\n",
    "        source_seq = self.corpus[idx : idx + self.seq_len]\n",
    "        target_seq = self.corpus[idx + 1 : idx + self.seq_len + 1]\n",
    "        \n",
    "        # one-hot\n",
    "        source_seq_t = torch.stack(\n",
    "            [self._get_onehot(c) for c in source_seq]\n",
    "        ).squeeze(dim=1)\n",
    "        target_seq_t = torch.Tensor([c2i[c] for c in target_seq]).long()\n",
    "\n",
    "        return (source_seq_t, target_seq_t)"
   ]
  },
  {
   "cell_type": "code",
   "execution_count": 40,
   "metadata": {},
   "outputs": [
    {
     "name": "stdout",
     "output_type": "stream",
     "text": [
      "Number of .py files: 838\n",
      "Chars in corpus: 10407415\n",
      "Number of distinct chars: 164\n"
     ]
    }
   ],
   "source": [
    "pyd = PySourceDataset('./scikit-learn-master')"
   ]
  },
  {
   "cell_type": "code",
   "execution_count": 41,
   "metadata": {},
   "outputs": [],
   "source": [
    "import pytorch_lightning as pl\n",
    "import torch.nn.functional as F\n",
    "import IPython\n",
    "\n",
    "\n",
    "class CharLM(pl.LightningModule):\n",
    "    def __init__(\n",
    "        self,\n",
    "        input_size,\n",
    "        hidden_size,\n",
    "        output_size,\n",
    "        num_layers=2,\n",
    "        dropout=0.5,\n",
    "        learning_rate=1e-4\n",
    "    ):\n",
    "        super().__init__()\n",
    "        self.save_hyperparameters()\n",
    "        \n",
    "        self.lstm = torch.nn.LSTM(\n",
    "            input_size=input_size,\n",
    "            hidden_size=hidden_size,\n",
    "            num_layers=num_layers,\n",
    "            dropout=dropout,\n",
    "            batch_first=True,\n",
    "        )\n",
    "        self.Who = torch.nn.Linear(hidden_size, output_size)\n",
    "        self.softmax = torch.nn.LogSoftmax(dim=2)\n",
    "        \n",
    "    def forward(self, x):\n",
    "        out, hidden_state = self.lstm(x)\n",
    "        out = self.Who(out)\n",
    "        logprob = self.softmax(out)\n",
    "        return logprob, hidden_state\n",
    "\n",
    "    def training_step(self, batch, batch_idx):\n",
    "        source, target = batch\n",
    "        y_hat, hidden_state = self(source)\n",
    "        # print(y_hat.shape, target.shape)\n",
    "        # IPython.embed()\n",
    "        \n",
    "        # compute sum of losses across time steps\n",
    "        loss = F.nll_loss(y_hat.view(-1, y_hat.shape[2]), target.view(-1))\n",
    "        self.log(\"train_loss\", loss)\n",
    "        return loss\n",
    "\n",
    "    def configure_optimizers(self):\n",
    "        return torch.optim.Adam(self.parameters(), lr=self.hparams.learning_rate)"
   ]
  },
  {
   "cell_type": "code",
   "execution_count": 42,
   "metadata": {
    "scrolled": false
   },
   "outputs": [
    {
     "name": "stdout",
     "output_type": "stream",
     "text": [
      "Number of .py files: 838\n",
      "Chars in corpus: 10407415\n"
     ]
    },
    {
     "name": "stderr",
     "output_type": "stream",
     "text": [
      "GPU available: False, used: False\n",
      "TPU available: None, using: 0 TPU cores\n",
      "\n",
      "  | Name    | Type       | Params\n",
      "---------------------------------------\n",
      "0 | lstm    | LSTM       | 3.5 M \n",
      "1 | Who     | Linear     | 84.1 K\n",
      "2 | softmax | LogSoftmax | 0     \n",
      "---------------------------------------\n",
      "3.6 M     Trainable params\n",
      "0         Non-trainable params\n",
      "3.6 M     Total params\n"
     ]
    },
    {
     "name": "stdout",
     "output_type": "stream",
     "text": [
      "Number of distinct chars: 164\n"
     ]
    },
    {
     "data": {
      "application/vnd.jupyter.widget-view+json": {
       "model_id": "c3c5caf3c9c34e4b8fc7293e4e9e7b90",
       "version_major": 2,
       "version_minor": 0
      },
      "text/plain": [
       "HBox(children=(FloatProgress(value=1.0, bar_style='info', description='Training', layout=Layout(flex='2'), max…"
      ]
     },
     "metadata": {},
     "output_type": "display_data"
    },
    {
     "name": "stdout",
     "output_type": "stream",
     "text": [
      "\n"
     ]
    },
    {
     "name": "stderr",
     "output_type": "stream",
     "text": [
      "/Users/giuseppe/miniconda3/lib/python3.8/site-packages/pytorch_lightning/utilities/distributed.py:49: UserWarning: Detected KeyboardInterrupt, attempting graceful shutdown...\n",
      "  warnings.warn(*args, **kwargs)\n"
     ]
    },
    {
     "data": {
      "text/plain": [
       "1"
      ]
     },
     "execution_count": 42,
     "metadata": {},
     "output_type": "execute_result"
    }
   ],
   "source": [
    "from aim.pytorch_lightning import AimLogger\n",
    "\n",
    "input_size = output_size = pyd.n_chars\n",
    "hidden_size = 512\n",
    "lr = 1e-4\n",
    "pl.seed_everything(42)\n",
    "py_dataset = PySourceDataset('./scikit-learn-master')\n",
    "train_loader = DataLoader(py_dataset, batch_size=3)\n",
    "model = CharLM(input_size, hidden_size, output_size, learning_rate=lr)\n",
    "aim_logger = AimLogger(\n",
    "    experiment=\"pt_lightning_exp\",\n",
    "    train_metric_prefix=\"train_\",\n",
    ")\n",
    "    trainer = pl.Trainer(logger=aim_logger)\n",
    "    trainer.fit(model, train_loader)"
   ]
  }
 ],
 "metadata": {
  "kernelspec": {
   "display_name": "Python 3",
   "language": "python",
   "name": "python3"
  },
  "language_info": {
   "codemirror_mode": {
    "name": "ipython",
    "version": 3
   },
   "file_extension": ".py",
   "mimetype": "text/x-python",
   "name": "python",
   "nbconvert_exporter": "python",
   "pygments_lexer": "ipython3",
   "version": "3.8.5"
  }
 },
 "nbformat": 4,
 "nbformat_minor": 4
}
